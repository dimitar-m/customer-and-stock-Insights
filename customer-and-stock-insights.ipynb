{
 "cells": [
  {
   "cell_type": "markdown",
   "id": "77d36522-0f0e-47c2-bec6-f58241827829",
   "metadata": {},
   "source": [
    "# Maximizing Profit: Targeted Restocking and VIP Customer Engagement for Sustainable Growth"
   ]
  },
  {
   "cell_type": "markdown",
   "id": "e5199eac-6c64-471a-97af-df5de53b5a52",
   "metadata": {},
   "source": [
    "## Introduction\n",
    "\n",
    "The goal of this analysis is to evaluate product inventory and customer behavior to guide restocking decisions, improve customer engagement, and assess how much can be invested in acquiring new customers. By examining product sales performance, customer profitability, and customer acquisition trends, we aim to derive actionable insights for store management.\n",
    "\n",
    "The approach includes three main analyses: identifying which products need restocking based on stock levels and sales performance, categorizing customers into VIP and less-engaged groups based on profit contributions, and calculating the Customer Lifetime Value (LTV) to inform marketing spend on new customers. We used SQL queries to extract relevant data from the store's database and applied logical calculations to arrive at these insights.\n",
    "\n",
    "The results revealed that certain high-demand products like the **1960 BSA Gold Star DBD34** require immediate restocking, while VIP customers such as **Diego Freyre** in **Madrid** contribute significantly to the store's profit. Additionally, the computed **LTV** of **$39,039.59** suggests the store can allocate a substantial budget to customer acquisition, particularly as the rate of new customer arrivals has been declining."
   ]
  },
  {
   "cell_type": "markdown",
   "id": "d4b8c0ff-3bf7-4290-8f30-266422197875",
   "metadata": {},
   "source": [
    "## Table of Contents\n",
    "- [Database Schema for Scale Model Cars Store](#Database-Schema-for-Scale-Model-Cars-Store)\n",
    "- [Loading the Database and Exploring its tables](#Loading-the-Database-and-Exploring-its-tables)\n",
    "- [Analysis of Product Stock Levels](#Analysis-of-Product-Stock-Levels)\n",
    "- [Question 1: Which Products Should We Order More of or Less of?](#Question-1:-Which-Products-Should-We-Order-More-of-or-Less-of?)\n",
    "- [Analysis of Customer Profit and Marketing Strategy](#Analysis-of-Customer-Profit-and-Marketing-Strategy)\n",
    "- [Question 2: How Should We Match Marketing and Communication Strategies to Customer Behavior?](#Question-2:-How-Should-We-Match-Marketing-and-Communication-Strategies-to-Customer-Behavior?)\n",
    "- [Analysis of Customer Lifetime Value](#Analysis-of-Customer-Lifetime-Value)\n",
    "- [Question 3: How Much Can We Spend on Acquiring New Customers?](#Question-3:-How-Much-Can-We-Spend-on-Acquiring-New-Customers?)\n",
    "- [Conclusion](#Conclusion)"
   ]
  },
  {
   "cell_type": "markdown",
   "id": "1163f52e-885e-4912-8280-e25db12cabe2",
   "metadata": {},
   "source": [
    "## **Database Schema for Scale Model Cars Store**"
   ]
  },
  {
   "cell_type": "markdown",
   "id": "9493a574-5ec6-475a-b664-489f66a9dc5e",
   "metadata": {},
   "source": [
    "### This database contains the following tables and their relationships:\n",
    "\n",
    "---\n",
    "\n",
    "### 1. **Table**: `customers`\n",
    "**Description**: Stores customer data, including contact information, address, and associated sales representative.  \n",
    "**Primary Key**: `customerNumber`  \n",
    "**Foreign Key**: `salesRepEmployeeNumber` → `employees(employeeNumber)`\n",
    "  - **Columns**:\n",
    "    - `customerNumber`: Unique identifier for each customer.\n",
    "    - `customerName`: The name of the customer.\n",
    "    - `contactLastName`, `contactFirstName`: Contact person's name.\n",
    "    - `phone`: Contact phone number.\n",
    "    - `addressLine1`, `addressLine2`: Address of the customer.\n",
    "    - `city`, `state`, `postalCode`, `country`: Location of the customer.\n",
    "    - `salesRepEmployeeNumber`: Employee responsible for the customer.\n",
    "    - `creditLimit`: Customer's credit limit.\n",
    "\n",
    "---\n",
    "\n",
    "### 2. **Table**: `employees`\n",
    "**Description**: Contains employee details, including their office location and supervisor.  \n",
    "**Primary Key**: `employeeNumber`  \n",
    "**Foreign Key**: `officeCode` → `offices(officeCode)`, `reportsTo` → `employees(employeeNumber)`\n",
    "  - **Columns**:\n",
    "    - `employeeNumber`: Unique identifier for each employee.\n",
    "    - `lastName`, `firstName`: Employee's name.\n",
    "    - `extension`: Employee's phone extension.\n",
    "    - `email`: Employee's email.\n",
    "    - `officeCode`: Office where the employee works.\n",
    "    - `reportsTo`: Employee's manager.\n",
    "    - `jobTitle`: Employee's job title.\n",
    "\n",
    "---\n",
    "\n",
    "### 3. **Table**: `offices`\n",
    "**Description**: Stores details of the company's offices, such as location and contact info.  \n",
    "**Primary Key**: `officeCode`\n",
    "  - **Columns**:\n",
    "    - `officeCode`: Unique identifier for each office.\n",
    "    - `city`: City where the office is located.\n",
    "    - `phone`: Office contact number.\n",
    "    - `addressLine1`, `addressLine2`: Office address.\n",
    "    - `state`, `postalCode`, `country`: Location details.\n",
    "    - `territory`: Geographical area the office covers.\n",
    "\n",
    "---\n",
    "\n",
    "### 4. **Table**: `orders`\n",
    "**Description**: Stores customer orders, including order dates, status, and customer who placed the order.  \n",
    "**Primary Key**: `orderNumber`  \n",
    "**Foreign Key**: `customerNumber` → `customers(customerNumber)`\n",
    "  - **Columns**:\n",
    "    - `orderNumber`: Unique identifier for each order.\n",
    "    - `orderDate`: Date the order was placed.\n",
    "    - `requiredDate`: Deadline for the order.\n",
    "    - `shippedDate`: Shipment date.\n",
    "    - `status`: Current order status.\n",
    "    - `comments`: Additional order comments.\n",
    "    - `customerNumber`: Customer who placed the order.\n",
    "\n",
    "---\n",
    "\n",
    "### 5. **Table**: `orderdetails`\n",
    "**Description**: Contains line items for each order, detailing the product, quantity, and price.  \n",
    "**Primary Key**: (`orderNumber`, `productCode`)  \n",
    "**Foreign Key**: `orderNumber` → `orders(orderNumber)`, `productCode` → `products(productCode)`\n",
    "  - **Columns**:\n",
    "    - `orderNumber`: Reference to the order.\n",
    "    - `productCode`: Reference to the product being ordered.\n",
    "    - `quantityOrdered`: Number of units ordered.\n",
    "    - `priceEach`: Price per unit.\n",
    "    - `orderLineNumber`: Line number within the order.\n",
    "\n",
    "---\n",
    "\n",
    "### 6. **Table**: `payments`\n",
    "**Description**: Records customer payments, including the payment amount and date.  \n",
    "**Primary Key**: (`customerNumber`, `checkNumber`)  \n",
    "**Foreign Key**: `customerNumber` → `customers(customerNumber)`\n",
    "  - **Columns**:\n",
    "    - `customerNumber`: Reference to the customer.\n",
    "    - `checkNumber`: Payment identifier.\n",
    "    - `paymentDate`: Date of payment.\n",
    "    - `amount`: Amount paid.\n",
    "\n",
    "---\n",
    "\n",
    "### 7. **Table**: `products`\n",
    "**Description**: Contains product information, including pricing, stock levels, and descriptions.  \n",
    "**Primary Key**: `productCode`  \n",
    "**Foreign Key**: `productLine` → `productlines(productLine)`\n",
    "  - **Columns**:\n",
    "    - `productCode`: Unique identifier for each product.\n",
    "    - `productName`: Product's name.\n",
    "    - `productLine`: Product category.\n",
    "    - `productScale`: Scale of the product (e.g., 1:18).\n",
    "    - `productVendor`: Vendor supplying the product.\n",
    "    - `productDescription`: Detailed description.\n",
    "    - `quantityInStock`: Stock availability.\n",
    "    - `buyPrice`: Cost to purchase the product.\n",
    "    - `MSRP`: Manufacturer's suggested retail price.\n",
    "\n",
    "---\n",
    "\n",
    "### 8. **Table**: `productlines`\n",
    "**Description**: Stores product categories, including descriptions and images.  \n",
    "**Primary Key**: `productLine`\n",
    "  - **Columns**:\n",
    "    - `productLine`: Unique identifier for each category.\n",
    "    - `textDescription`: Brief description.\n",
    "    - `htmlDescription`: HTML-based content.\n",
    "    - `image`: Image associated with the product line."
   ]
  },
  {
   "cell_type": "markdown",
   "id": "60cd57fc-ce3f-48a8-b4b8-0702d3d749d1",
   "metadata": {},
   "source": [
    "## Loading the Database and Exploring its tables"
   ]
  },
  {
   "cell_type": "code",
   "execution_count": 6,
   "id": "05c5f38f-2803-408b-b5cc-61b395175f05",
   "metadata": {},
   "outputs": [],
   "source": [
    "%load_ext sql\n",
    "%sql sqlite:///stores.db"
   ]
  },
  {
   "cell_type": "code",
   "execution_count": 7,
   "id": "7bf82f1a-e84a-4c2f-b640-bccb9a1be5d5",
   "metadata": {},
   "outputs": [
    {
     "name": "stdout",
     "output_type": "stream",
     "text": [
      " * sqlite:///stores.db\n",
      "Done.\n"
     ]
    },
    {
     "data": {
      "text/html": [
       "<table>\n",
       "    <thead>\n",
       "        <tr>\n",
       "            <th>table_name</th>\n",
       "            <th>num_attributes</th>\n",
       "            <th>num_rows</th>\n",
       "        </tr>\n",
       "    </thead>\n",
       "    <tbody>\n",
       "        <tr>\n",
       "            <td>Customers</td>\n",
       "            <td>13</td>\n",
       "            <td>122</td>\n",
       "        </tr>\n",
       "        <tr>\n",
       "            <td>Employees</td>\n",
       "            <td>8</td>\n",
       "            <td>23</td>\n",
       "        </tr>\n",
       "        <tr>\n",
       "            <td>Offices</td>\n",
       "            <td>9</td>\n",
       "            <td>7</td>\n",
       "        </tr>\n",
       "        <tr>\n",
       "            <td>Orders</td>\n",
       "            <td>7</td>\n",
       "            <td>326</td>\n",
       "        </tr>\n",
       "        <tr>\n",
       "            <td>Orderdetails</td>\n",
       "            <td>5</td>\n",
       "            <td>2996</td>\n",
       "        </tr>\n",
       "        <tr>\n",
       "            <td>Payments</td>\n",
       "            <td>4</td>\n",
       "            <td>273</td>\n",
       "        </tr>\n",
       "        <tr>\n",
       "            <td>Products</td>\n",
       "            <td>9</td>\n",
       "            <td>110</td>\n",
       "        </tr>\n",
       "        <tr>\n",
       "            <td>Productlines</td>\n",
       "            <td>4</td>\n",
       "            <td>7</td>\n",
       "        </tr>\n",
       "    </tbody>\n",
       "</table>"
      ],
      "text/plain": [
       "[('Customers', 13, 122),\n",
       " ('Employees', 8, 23),\n",
       " ('Offices', 9, 7),\n",
       " ('Orders', 7, 326),\n",
       " ('Orderdetails', 5, 2996),\n",
       " ('Payments', 4, 273),\n",
       " ('Products', 9, 110),\n",
       " ('Productlines', 4, 7)]"
      ]
     },
     "execution_count": 7,
     "metadata": {},
     "output_type": "execute_result"
    }
   ],
   "source": [
    "%%sql\n",
    "\n",
    "-- Count columns and rows for each table using UNION ALL\n",
    "\n",
    "-- Customers table\n",
    "SELECT 'Customers' AS table_name, \n",
    "       (SELECT COUNT(*) FROM pragma_table_info('customers')) AS num_attributes, \n",
    "       (SELECT COUNT(*) FROM customers) AS num_rows\n",
    "\n",
    "UNION ALL\n",
    "\n",
    "-- Employees table\n",
    "SELECT 'Employees' AS table_name, \n",
    "       (SELECT COUNT(*) FROM pragma_table_info('employees')) AS num_attributes, \n",
    "       (SELECT COUNT(*) FROM employees) AS num_rows\n",
    "\n",
    "UNION ALL\n",
    "\n",
    "-- Offices table\n",
    "SELECT 'Offices' AS table_name, \n",
    "       (SELECT COUNT(*) FROM pragma_table_info('offices')) AS num_attributes, \n",
    "       (SELECT COUNT(*) FROM offices) AS num_rows\n",
    "\n",
    "UNION ALL\n",
    "\n",
    "-- Orders table\n",
    "SELECT 'Orders' AS table_name, \n",
    "       (SELECT COUNT(*) FROM pragma_table_info('orders')) AS num_attributes, \n",
    "       (SELECT COUNT(*) FROM orders) AS num_rows\n",
    "\n",
    "UNION ALL\n",
    "\n",
    "-- OrderDetails table\n",
    "SELECT 'Orderdetails' AS table_name, \n",
    "       (SELECT COUNT(*) FROM pragma_table_info('orderdetails')) AS num_attributes, \n",
    "       (SELECT COUNT(*) FROM orderdetails) AS num_rows\n",
    "\n",
    "UNION ALL\n",
    "\n",
    "-- Payments table\n",
    "SELECT 'Payments' AS table_name, \n",
    "       (SELECT COUNT(*) FROM pragma_table_info('payments')) AS num_attributes, \n",
    "       (SELECT COUNT(*) FROM payments) AS num_rows\n",
    "\n",
    "UNION ALL\n",
    "\n",
    "-- Products table\n",
    "SELECT 'Products' AS table_name, \n",
    "       (SELECT COUNT(*) FROM pragma_table_info('products')) AS num_attributes, \n",
    "       (SELECT COUNT(*) FROM products) AS num_rows\n",
    "\n",
    "UNION ALL\n",
    "\n",
    "-- ProductLines table\n",
    "SELECT 'Productlines' AS table_name, \n",
    "       (SELECT COUNT(*) FROM pragma_table_info('productlines')) AS num_attributes, \n",
    "       (SELECT COUNT(*) FROM productlines) AS num_rows;"
   ]
  },
  {
   "cell_type": "markdown",
   "id": "81fa117f-25b0-4469-991d-709712fda1ed",
   "metadata": {},
   "source": [
    "## Analysis of Product Stock Levels"
   ]
  },
  {
   "cell_type": "code",
   "execution_count": 9,
   "id": "58521372-c64f-484c-8bfa-7f243adf8338",
   "metadata": {},
   "outputs": [
    {
     "name": "stdout",
     "output_type": "stream",
     "text": [
      " * sqlite:///stores.db\n",
      "(sqlite3.OperationalError) near \"2\": syntax error\n",
      "[SQL: -- Question 1: Which Products Should We Order More of or Less of?\n",
      "\n",
      "-- Define the CTEs for low stock and product performance\n",
      "WITH \n",
      "LowStock AS (\n",
      "    -- CTE to calculate low stock ratio\n",
      "    SELECT p.productCode, \n",
      "           ROUND(SUM(od.quantityOrdered) / p.quantityInStock, 2) AS low_stock_ratioQuestion 2: How Should We Match Marketing and Communication Strategies to Customer Behavior?\n",
      "      FROM products p\n",
      "      JOIN orderdetails od ON p.productCode = od.productCode\n",
      "     GROUP BY p.productCode\n",
      "    HAVING p.quantityInStock > 0\n",
      "), \n",
      "ProductPerformance AS (\n",
      "    -- CTE to calculate product performance\n",
      "    SELECT od.productCode, \n",
      "           SUM(od.quantityOrdered * od.priceEach) AS product_performance\n",
      "      FROM orderdetails od\n",
      "     GROUP BY od.productCode\n",
      ")\n",
      "\n",
      "-- Final query to get priority products for restocking\n",
      "SELECT p.productCode, \n",
      "       p.productName,\n",
      "       ls.low_stock_ratio, \n",
      "       ROUND(pp.product_performance, 2) AS product_performance\n",
      "  FROM products p\n",
      "  JOIN LowStock ls ON p.productCode = ls.productCode\n",
      "  JOIN ProductPerformance pp ON p.productCode = pp.productCode\n",
      " ORDER BY ls.low_stock_ratio DESC, pp.product_performance DESC\n",
      " LIMIT 10;]\n",
      "(Background on this error at: https://sqlalche.me/e/20/e3q8)\n"
     ]
    }
   ],
   "source": [
    "%%sql\n",
    "\n",
    "-- Question 1: Which Products Should We Order More of or Less of?\n",
    "\n",
    "-- Define the CTEs for low stock and product performance\n",
    "WITH \n",
    "LowStock AS (\n",
    "    -- CTE to calculate low stock ratio\n",
    "    SELECT p.productCode, \n",
    "           ROUND(SUM(od.quantityOrdered) / p.quantityInStock, 2) AS low_stock_ratioQuestion 2: How Should We Match Marketing and Communication Strategies to Customer Behavior?\n",
    "      FROM products p\n",
    "      JOIN orderdetails od ON p.productCode = od.productCode\n",
    "     GROUP BY p.productCode\n",
    "    HAVING p.quantityInStock > 0\n",
    "), \n",
    "ProductPerformance AS (\n",
    "    -- CTE to calculate product performance\n",
    "    SELECT od.productCode, \n",
    "           SUM(od.quantityOrdered * od.priceEach) AS product_performance\n",
    "      FROM orderdetails od\n",
    "     GROUP BY od.productCode\n",
    ")\n",
    "\n",
    "-- Final query to get priority products for restocking\n",
    "SELECT p.productCode, \n",
    "       p.productName,\n",
    "       ls.low_stock_ratio, \n",
    "       ROUND(pp.product_performance, 2) AS product_performance\n",
    "  FROM products p\n",
    "  JOIN LowStock ls ON p.productCode = ls.productCode\n",
    "  JOIN ProductPerformance pp ON p.productCode = pp.productCode\n",
    " ORDER BY ls.low_stock_ratio DESC, pp.product_performance DESC\n",
    " LIMIT 10;"
   ]
  },
  {
   "cell_type": "markdown",
   "id": "939a9017-ec6a-43af-92f2-c6d59e790fd1",
   "metadata": {},
   "source": [
    "## Question 1: Which Products Should We Order More of or Less of?"
   ]
  },
  {
   "cell_type": "markdown",
   "id": "ee6dfed6-c095-475d-8d0a-9ad99685fc12",
   "metadata": {},
   "source": [
    "To determine which products to order more of or less of, we conducted an analysis using inventory data to calculate a **low stock ratio** and **product performance** for each product. \n",
    "\n",
    "### Interpretation of Results\n",
    "\n",
    "1. **Low Stock Ratio**:\n",
    "   - The **low stock ratio** indicates how many times the quantity ordered exceeds the quantity currently in stock.\n",
    "   - For example, the **1960 BSA Gold Star DBD34** has a low stock ratio of **67.0**, meaning it has been ordered significantly more than what is currently in stock. This indicates high demand and suggests that more units should be ordered to meet customer needs.\n",
    "\n",
    "2. **Product Performance**:\n",
    "   - The **product performance** metric is the total revenue generated from sales of each product.\n",
    "   - The **1968 Ford Mustang**, despite having a lower low stock ratio of **13.0**, has the highest product performance of **161531.48**, highlighting its popularity and revenue-generating potential.\n",
    "\n",
    "### Summary\n",
    "\n",
    "Based on the analysis, the products with high low stock ratios and strong performance metrics should be prioritized for restocking. \n",
    "\n",
    "- **Recommended to Order More**:\n",
    "  - **1960 BSA Gold Star DBD34**: Very high demand and significant sales revenue.\n",
    "  - **1968 Ford Mustang**: A well-performing product that should be kept in stock to meet ongoing demand.\n",
    "\n",
    "- **Consider Ordering Less**:\n",
    "  - Products with a low low stock ratio (1.0) may indicate lower demand relative to stock levels. Consider analyzing their sales trends to decide on future orders.\n",
    "\n",
    "This analysis provides actionable insights into inventory management and helps optimize stock levels for improved sales performance."
   ]
  },
  {
   "cell_type": "markdown",
   "id": "4b2ca658-05f2-47e5-ac3e-6f9af05e78f1",
   "metadata": {},
   "source": [
    "## Analysis of Customer Profit and Marketing Strategy"
   ]
  },
  {
   "cell_type": "code",
   "execution_count": 13,
   "id": "62a728fe-bb70-4106-bedd-50ebd42e76b9",
   "metadata": {},
   "outputs": [
    {
     "name": "stdout",
     "output_type": "stream",
     "text": [
      " * sqlite:///stores.db\n",
      "Done.\n"
     ]
    },
    {
     "data": {
      "text/html": [
       "<table>\n",
       "    <thead>\n",
       "        <tr>\n",
       "            <th>contactLastName</th>\n",
       "            <th>contactFirstName</th>\n",
       "            <th>city</th>\n",
       "            <th>country</th>\n",
       "            <th>profit</th>\n",
       "        </tr>\n",
       "    </thead>\n",
       "    <tbody>\n",
       "        <tr>\n",
       "            <td>Freyre</td>\n",
       "            <td>Diego </td>\n",
       "            <td>Madrid</td>\n",
       "            <td>Spain</td>\n",
       "            <td>326519.66</td>\n",
       "        </tr>\n",
       "        <tr>\n",
       "            <td>Nelson</td>\n",
       "            <td>Susan</td>\n",
       "            <td>San Rafael</td>\n",
       "            <td>USA</td>\n",
       "            <td>236769.39</td>\n",
       "        </tr>\n",
       "        <tr>\n",
       "            <td>Young</td>\n",
       "            <td>Jeff</td>\n",
       "            <td>NYC</td>\n",
       "            <td>USA</td>\n",
       "            <td>72370.09</td>\n",
       "        </tr>\n",
       "        <tr>\n",
       "            <td>Ferguson</td>\n",
       "            <td>Peter</td>\n",
       "            <td>Melbourne</td>\n",
       "            <td>Australia</td>\n",
       "            <td>70311.07</td>\n",
       "        </tr>\n",
       "        <tr>\n",
       "            <td>Labrune</td>\n",
       "            <td>Janine </td>\n",
       "            <td>Nantes</td>\n",
       "            <td>France</td>\n",
       "            <td>60875.3</td>\n",
       "        </tr>\n",
       "    </tbody>\n",
       "</table>"
      ],
      "text/plain": [
       "[('Freyre', 'Diego ', 'Madrid', 'Spain', 326519.66),\n",
       " ('Nelson', 'Susan', 'San Rafael', 'USA', 236769.39),\n",
       " ('Young', 'Jeff', 'NYC', 'USA', 72370.09),\n",
       " ('Ferguson', 'Peter', 'Melbourne', 'Australia', 70311.07),\n",
       " ('Labrune', 'Janine ', 'Nantes', 'France', 60875.3)]"
      ]
     },
     "execution_count": 13,
     "metadata": {},
     "output_type": "execute_result"
    }
   ],
   "source": [
    "%%sql\n",
    "\n",
    "WITH CustomerProfit AS (\n",
    "    SELECT o.customerNumber,\n",
    "           ROUND(SUM(od.quantityOrdered * (od.priceEach - p.buyPrice)), 2) AS profit\n",
    "      FROM orders o\n",
    "      JOIN orderdetails od ON o.orderNumber = od.orderNumber\n",
    "      JOIN products p ON od.productCode = p.productCode\n",
    "     GROUP BY o.customerNumber\n",
    ")\n",
    "\n",
    "SELECT c.contactLastName, \n",
    "       c.contactFirstName, \n",
    "       c.city, \n",
    "       c.country, \n",
    "       cp.profit\n",
    "  FROM CustomerProfit cp\n",
    "  JOIN customers c ON cp.customerNumber = c.customerNumber\n",
    " ORDER BY cp.profit DESC\n",
    " LIMIT 5;"
   ]
  },
  {
   "cell_type": "code",
   "execution_count": 14,
   "id": "1eab2edb-4305-4b22-bacb-7cfadb0e538b",
   "metadata": {},
   "outputs": [
    {
     "name": "stdout",
     "output_type": "stream",
     "text": [
      " * sqlite:///stores.db\n",
      "(sqlite3.OperationalError) near \"3\": syntax error\n",
      "[SQL: WITH CustomerProfit AS (\n",
      "    SELECT o.customerNumber,\n",
      "           ROUND(SUM(od.quantityOrdered * (od.priQuestion 3: How Much Can We Spend on Acquiring New Customers?ceEach - p.buyPrice)), 2) AS profit\n",
      "      FROM orders o\n",
      "      JOIN orderdetails od ON o.orderNumber = od.orderNumber\n",
      "      JOIN products p ON od.productCode = p.productCode\n",
      "     GROUP BY o.customerNumber\n",
      ")\n",
      "SELECT c.contactLastName, \n",
      "       c.contactFirstName, \n",
      "       c.city, \n",
      "       c.country, \n",
      "       cp.profit\n",
      "  FROM CustomerProfit cp\n",
      "  JOIN customers c ON cp.customerNumber = c.customerNumber\n",
      " ORDER BY cp.profit ASC\n",
      " LIMIT 5;]\n",
      "(Background on this error at: https://sqlalche.me/e/20/e3q8)\n"
     ]
    }
   ],
   "source": [
    "%%sql\n",
    "\n",
    "WITH CustomerProfit AS (\n",
    "    SELECT o.customerNumber,\n",
    "           ROUND(SUM(od.quantityOrdered * (od.priQuestion 3: How Much Can We Spend on Acquiring New Customers?ceEach - p.buyPrice)), 2) AS profit\n",
    "      FROM orders o\n",
    "      JOIN orderdetails od ON o.orderNumber = od.orderNumber\n",
    "      JOIN products p ON od.productCode = p.productCode\n",
    "     GROUP BY o.customerNumber\n",
    ")\n",
    "SELECT c.contactLastName, \n",
    "       c.contactFirstName, \n",
    "       c.city, \n",
    "       c.country, \n",
    "       cp.profit\n",
    "  FROM CustomerProfit cp\n",
    "  JOIN customers c ON cp.customerNumber = c.customerNumber\n",
    " ORDER BY cp.profit ASC\n",
    " LIMIT 5;"
   ]
  },
  {
   "cell_type": "markdown",
   "id": "ed0e1fde-f62c-447c-ba6b-40b257d1d905",
   "metadata": {},
   "source": [
    "## Question 2: How Should We Match Marketing and Communication Strategies to Customer Behavior?"
   ]
  },
  {
   "cell_type": "markdown",
   "id": "15694804-97fc-417b-bf2e-4ee2b83a999e",
   "metadata": {},
   "source": [
    "Based on our results, we have identified two customer groups: **VIP customers** and **least-engaged customers**. \n",
    "\n",
    "### VIP Customers:\n",
    "These are the top five customers who have generated the most profit for the store. These customers, particularly those like Diego Freyre and Susan Nelson, are extremely valuable to the business. They generate high profit margins and may benefit from personalized, high-touch marketing efforts. Strategies like **exclusive VIP events, loyalty programs**, or **personalized offers** can further increase their engagement and maintain their loyalty to the store.\n",
    "\n",
    "### Least-Engaged Customers:\n",
    "On the other hand, we also identified the least-engaged customers who have generated the lowest profit for the store. These customers generate lower profit and are considered less engaged. To improve their engagement, the store can implement **targeted marketing campaigns** aimed at re-engaging these customers. For instance, **discount offers, promotional campaigns**, or **loyalty rewards** can encourage repeat purchases and increase their lifetime value to the store.\n",
    "\n",
    "### Conclusion:\n",
    "By understanding these two groups, the store can tailor its marketing and communication strategies to each. For **VIP customers**, personalized and exclusive offers may help maintain and increase their loyalty, while for **less-engaged customers**, promotional incentives could help drive more frequent purchases and boost overall engagement."
   ]
  },
  {
   "cell_type": "markdown",
   "id": "6a2c00c5-d770-43c2-8d3e-0c1851e543b4",
   "metadata": {},
   "source": [
    "## Analysis of Customer Lifetime Value"
   ]
  },
  {
   "cell_type": "code",
   "execution_count": 18,
   "id": "150efb2b-889a-40f0-b66b-7408c8033042",
   "metadata": {},
   "outputs": [
    {
     "name": "stdout",
     "output_type": "stream",
     "text": [
      " * sqlite:///stores.db\n",
      "Done.\n"
     ]
    },
    {
     "data": {
      "text/html": [
       "<table>\n",
       "    <thead>\n",
       "        <tr>\n",
       "            <th>customer_lifetime_value</th>\n",
       "        </tr>\n",
       "    </thead>\n",
       "    <tbody>\n",
       "        <tr>\n",
       "            <td>39039.59</td>\n",
       "        </tr>\n",
       "    </tbody>\n",
       "</table>"
      ],
      "text/plain": [
       "[(39039.59,)]"
      ]
     },
     "execution_count": 18,
     "metadata": {},
     "output_type": "execute_result"
    }
   ],
   "source": [
    "%%sql\n",
    "\n",
    "-- CTE to calculate profit for each customer\n",
    "WITH \n",
    "CustomerProfit AS (\n",
    "    SELECT o.customerNumber,\n",
    "           ROUND(SUM(od.quantityOrdered * (od.priceEach - p.buyPrice)), 2) AS profit\n",
    "      FROM orders o\n",
    "      JOIN orderdetails od ON o.orderNumber = od.orderNumber\n",
    "      JOIN products p ON od.productCode = p.productCode\n",
    "     GROUP BY o.customerNumber\n",
    ")\n",
    "\n",
    "-- Query to calculate the average profit (Customer Lifetime Value)\n",
    "SELECT ROUND(AVG(profit), 2) AS customer_lifetime_value\n",
    "  FROM CustomerProfit;"
   ]
  },
  {
   "cell_type": "markdown",
   "id": "57dc8a71-46c3-4465-b466-49a030025ec1",
   "metadata": {},
   "source": [
    "## Question 3: How Much Can We Spend on Acquiring New Customers?"
   ]
  },
  {
   "cell_type": "markdown",
   "id": "5c978721-65d2-4906-ade8-31d3e6f78247",
   "metadata": {},
   "source": [
    "To determine how much we can spend on acquiring new customers, we computed the **Customer Lifetime Value (LTV)**. LTV represents the average profit generated by each customer over the duration of their relationship with the store. Based on our analysis, the average LTV is **$39,039.59**.\n",
    "\n",
    "This figure is a key indicator of the value each customer brings to the store. Knowing this, the company can make more informed decisions about how much it can invest in acquiring new customers while still maintaining profitability. The amount spent on customer acquisition should ideally be a fraction of the LTV to ensure a positive return on investment.\n",
    "\n",
    "### Analysis\n",
    "\n",
    "From our previous results, we observed that the number of new customers has significantly decreased, especially since 2003, and by 2004 the new customer growth rate dropped sharply. By **September 2004**, the store ceased acquiring any new customers, which raises concern about customer retention and acquisition strategies.\n",
    "\n",
    "Given the high LTV of **$39,039.59**, it is evident that acquiring new customers is crucial, as each customer generates a substantial amount of profit. Based on this LTV, the store can invest in marketing strategies designed to attract new customers, with the goal of maximizing the return on the investment. For instance, marketing campaigns that cost less than a significant portion of the LTV (e.g., 10-20%) would still result in a net gain for the company."
   ]
  },
  {
   "cell_type": "markdown",
   "id": "747f75f7-828e-4d2a-bdd4-626ee082bbf3",
   "metadata": {},
   "source": [
    "## Conclusion"
   ]
  },
  {
   "cell_type": "markdown",
   "id": "57f723f1-8707-47f5-86b2-5d11f225f9ef",
   "metadata": {},
   "source": [
    "In this analysis, we addressed three key questions regarding the store's products and customers. First, we identified products that should be prioritized for restocking based on their **low stock ratio** and **sales performance**, ensuring the store stays well-stocked on high-demand items like the **1960 BSA Gold Star DBD34** and **1968 Ford Mustang**. Second, we categorized customers into **VIP** and **less-engaged** groups based on the profit they generate, highlighting opportunities to strengthen relationships with VIPs and engage less active customers.\n",
    "\n",
    "Finally, we analyzed the store's **customer acquisition** trend and computed the **Customer Lifetime Value (LTV)** of $39,039.59, which provides a solid benchmark for how much the store can spend on acquiring new customers. Given the decline in new customer acquisition, it's clear that investing in targeted marketing strategies will be crucial to reversing this trend and sustaining future growth."
   ]
  }
 ],
 "metadata": {
  "kernelspec": {
   "display_name": "Python 3 (ipykernel)",
   "language": "python",
   "name": "python3"
  },
  "language_info": {
   "codemirror_mode": {
    "name": "ipython",
    "version": 3
   },
   "file_extension": ".py",
   "mimetype": "text/x-python",
   "name": "python",
   "nbconvert_exporter": "python",
   "pygments_lexer": "ipython3",
   "version": "3.12.4"
  }
 },
 "nbformat": 4,
 "nbformat_minor": 5
}
